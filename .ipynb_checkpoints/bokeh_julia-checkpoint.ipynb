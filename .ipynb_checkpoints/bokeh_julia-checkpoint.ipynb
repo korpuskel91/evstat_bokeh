{
 "cells": [
  {
   "cell_type": "code",
   "execution_count": 78,
   "metadata": {},
   "outputs": [],
   "source": [
    "using PyCall\n",
    "using CSV"
   ]
  },
  {
   "cell_type": "code",
   "execution_count": 100,
   "metadata": {},
   "outputs": [
    {
     "data": {
      "text/plain": [
       "PyObject <module 'numpy' from 'C:\\\\Program Files\\\\Python36\\\\lib\\\\site-packages\\\\numpy\\\\__init__.py'>"
      ]
     },
     "execution_count": 100,
     "metadata": {},
     "output_type": "execute_result"
    }
   ],
   "source": [
    "bk_plt = pyimport(\"bokeh.plotting\")\n",
    "bk_tile_prov = pyimport(\"bokeh.tile_providers\")\n",
    "bk_models = pyimport(\"bokeh.models\")\n",
    "np = pyimport(\"numpy\")"
   ]
  },
  {
   "cell_type": "code",
   "execution_count": 101,
   "metadata": {},
   "outputs": [
    {
     "data": {
      "text/html": [
       "<div style=\"display: table;\"><div style=\"display: table-row;\"><div style=\"display: table-cell;\"><b title=\"bokeh.models.tiles.WMTSTileSource\">WMTSTileSource</b>(</div><div style=\"display: table-cell;\">id&nbsp;=&nbsp;'2727', <span id=\"2733\" style=\"cursor: pointer;\">&hellip;)</span></div></div><div class=\"2732\" style=\"display: none;\"><div style=\"display: table-cell;\"></div><div style=\"display: table-cell;\">attribution&nbsp;=&nbsp;'Map tiles by <a href=\"http://stamen.com\">Stamen Design</a>, under <a href=\"http://creativecommons.org/licenses/by/3.0\">CC BY 3.0</a>. Data by <a href=\"http://openstreetmap.org\">OpenStreetMap</a>, under <a href=\"http://www.openstreetmap.org/copyright\">ODbL</a>',</div></div><div class=\"2732\" style=\"display: none;\"><div style=\"display: table-cell;\"></div><div style=\"display: table-cell;\">extra_url_vars&nbsp;=&nbsp;{},</div></div><div class=\"2732\" style=\"display: none;\"><div style=\"display: table-cell;\"></div><div style=\"display: table-cell;\">initial_resolution&nbsp;=&nbsp;156543.03392804097,</div></div><div class=\"2732\" style=\"display: none;\"><div style=\"display: table-cell;\"></div><div style=\"display: table-cell;\">js_event_callbacks&nbsp;=&nbsp;{},</div></div><div class=\"2732\" style=\"display: none;\"><div style=\"display: table-cell;\"></div><div style=\"display: table-cell;\">js_property_callbacks&nbsp;=&nbsp;{},</div></div><div class=\"2732\" style=\"display: none;\"><div style=\"display: table-cell;\"></div><div style=\"display: table-cell;\">max_zoom&nbsp;=&nbsp;30,</div></div><div class=\"2732\" style=\"display: none;\"><div style=\"display: table-cell;\"></div><div style=\"display: table-cell;\">min_zoom&nbsp;=&nbsp;0,</div></div><div class=\"2732\" style=\"display: none;\"><div style=\"display: table-cell;\"></div><div style=\"display: table-cell;\">name&nbsp;=&nbsp;None,</div></div><div class=\"2732\" style=\"display: none;\"><div style=\"display: table-cell;\"></div><div style=\"display: table-cell;\">snap_to_zoom&nbsp;=&nbsp;False,</div></div><div class=\"2732\" style=\"display: none;\"><div style=\"display: table-cell;\"></div><div style=\"display: table-cell;\">subscribed_events&nbsp;=&nbsp;[],</div></div><div class=\"2732\" style=\"display: none;\"><div style=\"display: table-cell;\"></div><div style=\"display: table-cell;\">tags&nbsp;=&nbsp;[],</div></div><div class=\"2732\" style=\"display: none;\"><div style=\"display: table-cell;\"></div><div style=\"display: table-cell;\">tile_size&nbsp;=&nbsp;256,</div></div><div class=\"2732\" style=\"display: none;\"><div style=\"display: table-cell;\"></div><div style=\"display: table-cell;\">url&nbsp;=&nbsp;'http://tile.stamen.com/watercolor/{Z}/{X}/{Y}.png',</div></div><div class=\"2732\" style=\"display: none;\"><div style=\"display: table-cell;\"></div><div style=\"display: table-cell;\">wrap_around&nbsp;=&nbsp;True,</div></div><div class=\"2732\" style=\"display: none;\"><div style=\"display: table-cell;\"></div><div style=\"display: table-cell;\">x_origin_offset&nbsp;=&nbsp;20037508.34,</div></div><div class=\"2732\" style=\"display: none;\"><div style=\"display: table-cell;\"></div><div style=\"display: table-cell;\">y_origin_offset&nbsp;=&nbsp;20037508.34)</div></div></div>\n",
       "<script>\n",
       "(function() {\n",
       "  var expanded = false;\n",
       "  var ellipsis = document.getElementById(\"2733\");\n",
       "  ellipsis.addEventListener(\"click\", function() {\n",
       "    var rows = document.getElementsByClassName(\"2732\");\n",
       "    for (var i = 0; i < rows.length; i++) {\n",
       "      var el = rows[i];\n",
       "      el.style.display = expanded ? \"none\" : \"table-row\";\n",
       "    }\n",
       "    ellipsis.innerHTML = expanded ? \"&hellip;)\" : \"&lsaquo;&lsaquo;&lsaquo;\";\n",
       "    expanded = !expanded;\n",
       "  });\n",
       "})();\n",
       "</script>\n"
      ],
      "text/plain": [
       "PyObject WMTSTileSource(id='2727', ...)"
      ]
     },
     "execution_count": 101,
     "metadata": {},
     "output_type": "execute_result"
    }
   ],
   "source": [
    "STAMEN_MANUAL = bk_models[:WMTSTileSource](\n",
    "    url=\"http://tile.stamen.com/terrain/{Z}/{X}/{Y}.png\",\n",
    "    attribution=(\n",
    "        \"Map tiles by <a href=\\\"http://stamen.com\\\">Stamen Design</a>, under <a href=\\\"http://creativecommons.org/licenses/by/3.0\\\">CC BY 3.0</a>. Data by <a href=\\\"http://openstreetmap.org\\\">OpenStreetMap</a>, under <a href=\\\"http://www.openstreetmap.org/copyright\\\">ODbL</a>\"\n",
    "    ))\n",
    "\n",
    "STAMEN_WATERCOLOR = bk_models[:WMTSTileSource](\n",
    "    url=\"http://tile.stamen.com/watercolor/{Z}/{X}/{Y}.png\",\n",
    "    attribution=(\n",
    "        \"Map tiles by <a href=\\\"http://stamen.com\\\">Stamen Design</a>, under <a href=\\\"http://creativecommons.org/licenses/by/3.0\\\">CC BY 3.0</a>. Data by <a href=\\\"http://openstreetmap.org\\\">OpenStreetMap</a>, under <a href=\\\"http://www.openstreetmap.org/copyright\\\">ODbL</a>\"\n",
    "    ))"
   ]
  },
  {
   "cell_type": "code",
   "execution_count": 102,
   "metadata": {},
   "outputs": [
    {
     "data": {
      "text/plain": [
       "2-element Array{Float64,1}:\n",
       " 4.962320353878791e6\n",
       " 4.994657771350638e6"
      ]
     },
     "execution_count": 102,
     "metadata": {},
     "output_type": "execute_result"
    }
   ],
   "source": [
    "function merc(lat, lon)\n",
    "    # convert lat lon to x y\n",
    "    r_major = r_major = 6378137.000\n",
    "    x = r_major * deg2rad(lon)\n",
    "    scale = x/lon\n",
    "    y = 180. / π * log(tan(π / 4 + lat * (π / 180.) / 2.)) * scale\n",
    "    return x,y\n",
    "end\n",
    "\n",
    "man =[[40.66, -73.92], [40.88, -74.05]]\n",
    "x_range = []\n",
    "y_range = []\n",
    "for c in man\n",
    "    x,y = merc(c[1],c[2])\n",
    "    push!(x_range, x)\n",
    "    push!(y_range, y)\n",
    "end\n",
    "x_range = np[:array](x_range) \n",
    "y_range = np[:array](y_range) \n",
    "#"
   ]
  },
  {
   "cell_type": "code",
   "execution_count": 103,
   "metadata": {},
   "outputs": [
    {
     "data": {
      "text/plain": [
       "1-element Array{Tuple{String,String},1}:\n",
       " (\"Name\", \"@name\")"
      ]
     },
     "execution_count": 103,
     "metadata": {},
     "output_type": "execute_result"
    }
   ],
   "source": [
    "station_data = CSV.read(\"stations.csv\")\n",
    "\n",
    "x = []\n",
    "y = []\n",
    "lat = []\n",
    "lon = []\n",
    "for i in 1:size(station_data, 1)\n",
    "    cx,cy = merc(station_data[i,:Latitude], station_data[i,:Longitude])\n",
    "    push!(x,cx)\n",
    "    push!(y,cy)\n",
    "    push!(lat, station_data[i,:Latitude])\n",
    "    push!(lon, station_data[i,:Longitude])\n",
    "end\n",
    "\n",
    "sz = rand(316)*15 .+ fill(2,316)\n",
    "\n",
    "names = station_data[:,:Station_Name]\n",
    "data = Dict(\"x\"=>x, \"y\"=>y, \"lat\"=>lat, \"lon\"=>lon, \"name\"=>names, \"size\"=>sz)\n",
    "source_stations = bk_plt[:ColumnDataSource](data=data)\n",
    "\n",
    "hover_station = [\n",
    "    (\"Name\", \"@name\")\n",
    "]\n"
   ]
  },
  {
   "cell_type": "code",
   "execution_count": 104,
   "metadata": {},
   "outputs": [],
   "source": [
    "bk_plt[:output_file](\"julia_map_plot.html\")\n",
    "fig = bk_plt[:figure](x_range=x_range, y_range=y_range, x_axis_type=\"mercator\", y_axis_type=\"mercator\")\n",
    "\n",
    "stations = fig[:circle](\"x\", \"y\", size=\"size\", fill_alpha=0.8, fill_color=\"red\", source=source_stations)\n",
    "\n",
    "fig[:add_tools](bk_models[:HoverTool](renderers = [stations], tooltips=hover_station))\n",
    "\n",
    "fig[:add_tile](bk_tile_prov[:STAMEN_TONER_BACKGROUND])\n",
    "# fig[:add_tile](STAMEN_WATERCOLOR)\n",
    "bk_plt[:show](fig)"
   ]
  },
  {
   "cell_type": "code",
   "execution_count": 92,
   "metadata": {},
   "outputs": [
    {
     "data": {
      "text/plain": [
       "2-element Array{Int64,1}:\n",
       " 316\n",
       " 316"
      ]
     },
     "execution_count": 92,
     "metadata": {},
     "output_type": "execute_result"
    }
   ],
   "source": [
    "fill(316,2)"
   ]
  },
  {
   "cell_type": "code",
   "execution_count": null,
   "metadata": {},
   "outputs": [],
   "source": []
  }
 ],
 "metadata": {
  "kernelspec": {
   "display_name": "Julia 1.0.1",
   "language": "julia",
   "name": "julia-1.0"
  },
  "language_info": {
   "file_extension": ".jl",
   "mimetype": "application/julia",
   "name": "julia",
   "version": "1.0.1"
  }
 },
 "nbformat": 4,
 "nbformat_minor": 2
}
