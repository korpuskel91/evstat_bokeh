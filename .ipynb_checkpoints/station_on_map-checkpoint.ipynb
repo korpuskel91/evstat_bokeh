{
 "cells": [
  {
   "cell_type": "code",
   "execution_count": 7,
   "metadata": {},
   "outputs": [],
   "source": [
    "import pandas as pd\n",
    "import numpy as np\n",
    "\n",
    "from bokeh import palettes\n",
    "from bokeh.plotting import figure, show, output_file, ColumnDataSource\n",
    "from bokeh.tile_providers import STAMEN_TONER_BACKGROUND\n",
    "from bokeh.io import output_notebook\n",
    "from bokeh.models import WMTSTileSource, HoverTool"
   ]
  },
  {
   "cell_type": "code",
   "execution_count": 8,
   "metadata": {},
   "outputs": [],
   "source": [
    "STAMEN_MANUAL = WMTSTileSource(\n",
    "    url='http://tile.stamen.com/terrain/{Z}/{X}/{Y}.png',\n",
    "    attribution=(\n",
    "        'Map tiles by <a href=\"http://stamen.com\">Stamen Design</a>, '\n",
    "        'under <a href=\"http://creativecommons.org/licenses/by/3.0\">CC BY 3.0</a>.'\n",
    "        'Data by <a href=\"http://openstreetmap.org\">OpenStreetMap</a>, '\n",
    "        'under <a href=\"http://www.openstreetmap.org/copyright\">ODbL</a>'\n",
    "    ))\n",
    "\n",
    "STAMEN_WATERCOLOR = WMTSTileSource(\n",
    "    url='http://tile.stamen.com/watercolor/{Z}/{X}/{Y}.png',\n",
    "    attribution=(\n",
    "        'Map tiles by <a href=\"http://stamen.com\">Stamen Design</a>, '\n",
    "        'under <a href=\"http://creativecommons.org/licenses/by/3.0\">CC BY 3.0</a>.'\n",
    "        'Data by <a href=\"http://openstreetmap.org\">OpenStreetMap</a>, '\n",
    "        'under <a href=\"http://www.openstreetmap.org/copyright\">ODbL</a>'\n",
    "    ))"
   ]
  },
  {
   "cell_type": "code",
   "execution_count": 9,
   "metadata": {},
   "outputs": [],
   "source": [
    "def merc(lat, lon):\n",
    "    \"\"\"convert lat lon to x,y\"\"\"\n",
    "    r_major = 6378137.000\n",
    "    x = r_major * np.radians(lon)\n",
    "    scale = x/lon\n",
    "    y = 180.0/np.pi * np.log(np.tan(np.pi/4.0 + lat * (np.pi/180.0)/2.0)) * scale\n",
    "    return(x, y)\n",
    "\n",
    "man =[[40.66, -73.92], [40.88, -74.05]]\n",
    "x_range, y_range = [],[]\n",
    "for c in man:\n",
    "    x,y = merc(c[0],c[1])\n",
    "    x_range.append(x)\n",
    "    y_range.append(y)"
   ]
  },
  {
   "cell_type": "code",
   "execution_count": 10,
   "metadata": {},
   "outputs": [],
   "source": [
    "color = palettes.viridis(10)"
   ]
  },
  {
   "cell_type": "code",
   "execution_count": 11,
   "metadata": {},
   "outputs": [],
   "source": [
    "station_data = pd.read_csv(\"stations.csv\")\n",
    "station_data.columns = station_data.columns.str.strip().str.lower().str.replace(' ', '_').str.replace('(', '').str.replace(')', '')\n",
    "\n",
    "x,y,lat,lon = [],[],[],[]\n",
    "for i in station_data.index:\n",
    "    cx,cy = merc(station_data.latitude[i], station_data.longitude[i])\n",
    "    x.append(cx)\n",
    "    y.append(cy)\n",
    "    lat.append(station_data.latitude[i])\n",
    "    lon.append(station_data.longitude[i])\n",
    "    \n",
    "source_stations = ColumnDataSource(data=dict(\n",
    "    x=x,\n",
    "    y=y,\n",
    "    lat=lat,\n",
    "    lon=lon,\n",
    "    name=list(station_data.station_name)\n",
    "))\n",
    "\n",
    "\n",
    "hover_station = [\n",
    "    (\"Name\", \"@name\"),\n",
    "]\n"
   ]
  },
  {
   "cell_type": "code",
   "execution_count": 12,
   "metadata": {},
   "outputs": [],
   "source": [
    "output_file(\"map_plot.html\")\n",
    "fig = figure(x_range=x_range, y_range=y_range,\n",
    "           x_axis_type=\"mercator\", y_axis_type=\"mercator\")\n",
    "\n",
    "\n",
    "stations = fig.circle(x=\"x\", y=\"y\", size=8, fill_alpha=0.8, fill_color=color[5], source=source_stations)\n",
    "fig.add_tools(HoverTool(renderers = [stations], tooltips=hover_station))\n",
    "fig.add_tile(STAMEN_WATERCOLOR)\n",
    "\n",
    "show(fig)"
   ]
  },
  {
   "cell_type": "code",
   "execution_count": 5,
   "metadata": {},
   "outputs": [
    {
     "name": "stdout",
     "output_type": "stream",
     "text": [
      "[40.88, -74.05]\n",
      "[40.66, -73.92]\n"
     ]
    }
   ],
   "source": [
    "for c in man:\n",
    "    print(c)"
   ]
  },
  {
   "cell_type": "code",
   "execution_count": null,
   "metadata": {},
   "outputs": [],
   "source": []
  }
 ],
 "metadata": {
  "kernelspec": {
   "display_name": "Python 3",
   "language": "python",
   "name": "python3"
  },
  "language_info": {
   "codemirror_mode": {
    "name": "ipython",
    "version": 3
   },
   "file_extension": ".py",
   "mimetype": "text/x-python",
   "name": "python",
   "nbconvert_exporter": "python",
   "pygments_lexer": "ipython3",
   "version": "3.6.1"
  }
 },
 "nbformat": 4,
 "nbformat_minor": 2
}
